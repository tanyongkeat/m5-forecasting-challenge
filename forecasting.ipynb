{
 "cells": [
  {
   "cell_type": "code",
   "execution_count": null,
   "metadata": {},
   "outputs": [],
   "source": [
    "import warnings; warnings.filterwarnings('ignore')\n",
    "import pandas as pd\n",
    "import numpy as np\n",
    "import matplotlib.pyplot as plt\n",
    "import seaborn as sns; sns.set()\n",
    "import datetime\n",
    "from statsmodels.graphics.tsaplots import plot_acf, plot_pacf\n",
    "from statsmodels.tsa.seasonal import seasonal_decompose\n",
    "# import pmdarima\n",
    "import pickle\n",
    "import time\n",
    "import os\n",
    "from fbprophet import Prophet\n",
    "\n",
    "pd.set_option('display.max_columns', 50)\n",
    "pd.set_option('display.max_rows', 100)\n",
    "input_path = '/kaggle/input/m5-forecasting-accuracy/'\n",
    "output_path = '/kaggle/working/'\n",
    "\n",
    "from multiprocessing import Pool, cpu_count # accelerate the forecasting speed\n",
    "\n",
    "pd.plotting.register_matplotlib_converters()"
   ]
  },
  {
   "cell_type": "markdown",
   "metadata": {},
   "source": [
    "### Initialisation"
   ]
  },
  {
   "cell_type": "markdown",
   "metadata": {},
   "source": [
    "For submision, the evaluation period from 2016-4-25 to 2016-6-19 is splitted into two windows of 28 days each. The first(validation) is used for public leaderboard and the second(evaluation) is reserved for true evaluation (which is the metric used for final scoring of the competition). The $id$s for validation period will contain \"validation\" while $id$s for evaluation period will contain \"evaluation\"."
   ]
  },
  {
   "cell_type": "code",
   "execution_count": null,
   "metadata": {},
   "outputs": [],
   "source": [
    "TRAIN_END = '2016-4-24'\n",
    "EVALUATION_START = '2016-4-25'\n",
    "EVALUATION_END = '2016-6-19'\n",
    "PREDICTION_PERIOD = 1969-1914"
   ]
  },
  {
   "cell_type": "code",
   "execution_count": null,
   "metadata": {},
   "outputs": [],
   "source": [
    "full_df = pickle.load(open('/kaggle/input/m5-eda/full_df', 'rb'))"
   ]
  },
  {
   "cell_type": "markdown",
   "metadata": {},
   "source": [
    "### Submission preparation"
   ]
  },
  {
   "cell_type": "code",
   "execution_count": null,
   "metadata": {},
   "outputs": [],
   "source": [
    "sub = pd.read_csv('sample_submission.csv')"
   ]
  },
  {
   "cell_type": "code",
   "execution_count": null,
   "metadata": {},
   "outputs": [],
   "source": [
    "sub = sub.iloc[:int(sub.shape[0]/2)] # to remove the ids with \"evaluation\", we can predict the demand for 56 days straight and fill in the last 28 days into the evaluation period"
   ]
  },
  {
   "cell_type": "markdown",
   "metadata": {},
   "source": [
    "### Model"
   ]
  },
  {
   "cell_type": "code",
   "execution_count": null,
   "metadata": {},
   "outputs": [],
   "source": [
    "def train_prophet(id):\n",
    "    df = full_df[full_df.id == id]\n",
    "    \n",
    "    mean_price = df.sell_price.mean()\n",
    "    std_price = df.sell_price.std()\n",
    "    if not std_price == 0:\n",
    "        df['sell_price'] = (df.sell_price-mean_price)/std_price\n",
    "\n",
    "    df_train = df[:TRAIN_END].reset_index().rename(columns={'date': 'ds', 'demand': 'y'})\n",
    "    future = df[EVALUATION_START:EVALUATION_END].reset_index().rename(columns={'date': 'ds', 'demand': 'y'})\n",
    "    \n",
    "    regs = ['sell_price', 'event_superbowl', 'event_valentinesday', 'event_presidentsday', 'event_lentstart', 'event_lentweek2', 'event_stpatricksday', 'event_purim end', 'event_orthodoxeaster', 'event_pesach end', 'event_cinco de mayo', \"event_mother's day\", 'event_memorialday', 'event_nbafinalsstart', 'event_nbafinalsend', \"event_father's day\", 'event_independenceday', 'event_ramadan starts', 'event_eid al-fitr', 'event_laborday', 'event_columbusday', 'event_halloween', 'event_eidaladha', 'event_veteransday', 'event_thanksgiving', 'event_christmas', 'event_chanukah end', 'event_newyear', 'event_orthodoxchristmas', 'event_martinlutherkingday', 'event_easter']\n",
    "    \n",
    "    prophet = Prophet(weekly_seasonality=True, uncertainty_samples=False, changepoint_prior_scale=0.4, changepoint_range=0.95)\n",
    "\n",
    "    for reg in regs:\n",
    "        prophet.add_regressor(reg)\n",
    "    if 'CA' in id:\n",
    "        prophet.add_regressor('snap_CA')\n",
    "    elif 'TX' in id:\n",
    "        prophet.add_regressor('snap_TX')\n",
    "    else:\n",
    "        prophet.add_regressor('snap_WI')\n",
    "    \n",
    "    prophet.fit(df_train)\n",
    "\n",
    "    forecast = prophet.predict(future)\n",
    "    return id, forecast.yhat.values.clip(min=0)"
   ]
  },
  {
   "cell_type": "markdown",
   "metadata": {},
   "source": [
    "### Forecasting"
   ]
  },
  {
   "cell_type": "code",
   "execution_count": null,
   "metadata": {},
   "outputs": [],
   "source": [
    "ids = full_df.index.values"
   ]
  },
  {
   "cell_type": "code",
   "execution_count": null,
   "metadata": {},
   "outputs": [],
   "source": [
    "from tqdm import tqdm"
   ]
  },
  {
   "cell_type": "markdown",
   "metadata": {},
   "source": [
    "This process will take up to 8 hours in kaggle notebook."
   ]
  },
  {
   "cell_type": "code",
   "execution_count": null,
   "metadata": {},
   "outputs": [],
   "source": [
    "st = time.time()\n",
    "with Pool(cpu_count()) as pool:\n",
    "    results = pool.map(train_prophet, ids)\n",
    "print(time.time()-st)\n",
    "\n",
    "st=time.time()\n",
    "for result in tqdm(results):\n",
    "    sub.loc[result[0]] = result[1][:28]\n",
    "    sub.loc[result[0].replace('validation', 'evaluation')] = result[1][28:] \n",
    "time.time()-st"
   ]
  },
  {
   "cell_type": "markdown",
   "metadata": {},
   "source": [
    "### Submission"
   ]
  },
  {
   "cell_type": "code",
   "execution_count": null,
   "metadata": {},
   "outputs": [],
   "source": [
    "sub.to_csv('submission.csv')"
   ]
  }
 ],
 "metadata": {
  "kernelspec": {
   "display_name": "Python 3",
   "language": "python",
   "name": "python3"
  },
  "language_info": {
   "codemirror_mode": {
    "name": "ipython",
    "version": 3
   },
   "file_extension": ".py",
   "mimetype": "text/x-python",
   "name": "python",
   "nbconvert_exporter": "python",
   "pygments_lexer": "ipython3",
   "version": "3.7.4"
  }
 },
 "nbformat": 4,
 "nbformat_minor": 2
}
